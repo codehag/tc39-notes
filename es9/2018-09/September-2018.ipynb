{
 "cells": [
  {
   "cell_type": "code",
   "execution_count": 1,
   "metadata": {},
   "outputs": [
    {
     "name": "stdout",
     "output_type": "stream",
     "text": [
      "true.\n",
      "false.\n",
      "false.\n",
      "false.\n",
      "ValueName = ? ;\n",
      "ValueName = expressiveness ;\n",
      "ValueName = new_capability ;\n",
      "ValueName = correctness ;\n",
      "ValueName = learnability ;\n",
      "ValueName = own_weight ;\n",
      "ValueName = determinism ;\n",
      "ValueName = configurability ."
     ]
    }
   ],
   "source": [
    "?- consult('../../notes_explorer/notes_explorer.pl').\n",
    "?- load_note('sept-25').\n",
    "?- load_note('sept-26').\n",
    "?- load_note('sept-27').\n",
    "?- value(ValueName)."
   ]
  },
  {
   "cell_type": "code",
   "execution_count": null,
   "metadata": {},
   "outputs": [],
   "source": []
  }
 ],
 "metadata": {
  "kernelspec": {
   "display_name": "SWI-Prolog",
   "language": "",
   "name": "jswipl"
  },
  "language_info": {
   "mimetype": "text/plain",
   "name": "swipl"
  }
 },
 "nbformat": 4,
 "nbformat_minor": 2
}
