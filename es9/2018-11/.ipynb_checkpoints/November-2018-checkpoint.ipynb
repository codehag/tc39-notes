{
 "cells": [
  {
   "cell_type": "code",
   "execution_count": 4,
   "metadata": {},
   "outputs": [
    {
     "name": "stdout",
     "output_type": "stream",
     "text": [
      "true.\n",
      "false.\n",
      "false.\n",
      "ValueName = ? ;\n",
      "ValueName = new_capability ;\n",
      "ValueName = integrity ;\n",
      "ValueName = expressiveness ;\n",
      "ValueName = ecosystem_implementation ;\n",
      "ValueName = standardization ;\n",
      "ValueName = interop ;\n",
      "ValueName = consistency ;\n",
      "ValueName = cowpath ;\n",
      "ValueName = backwardscompat ."
     ]
    }
   ],
   "source": [
    "?- consult('../../notes_explorer/notes_explorer.pl').\n",
    "?- load_note('nov-28').\n",
    "?- load_note('nov-27').\n",
    "?- value(ValueName)."
   ]
  },
  {
   "cell_type": "code",
   "execution_count": null,
   "metadata": {},
   "outputs": [],
   "source": []
  }
 ],
 "metadata": {
  "kernelspec": {
   "display_name": "SWI-Prolog",
   "language": "",
   "name": "jswipl"
  },
  "language_info": {
   "mimetype": "text/plain",
   "name": "swipl"
  }
 },
 "nbformat": 4,
 "nbformat_minor": 2
}
