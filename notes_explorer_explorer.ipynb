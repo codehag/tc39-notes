{
 "cells": [
  {
   "cell_type": "markdown",
   "metadata": {
    "scrolled": true
   },
   "source": [
    "# Notes Explorer Documentation\n",
    "\n",
    "The notes explorer is a prolog program consisting of four parts: \n",
    "\n",
    "1) an adhoc specification for annotating notes\n",
    "\n",
    "2) a set of notes that have been annotated\n",
    "\n",
    "3) a parser which consumes annotated notes and builds a `world`\n",
    "\n",
    "4) a series of `views` on the data that exists in the `world`. \n",
    "\n",
    "The purpose of this Jupyter Notebook is to act as an interactive introduction to this system. In case you are reading a pdf version of this, you can access the interactive version at https://notesexplorer.herokuapp.com).\n",
    "\n",
    "This first section will go into detail to answer the question \"why\", but, depending on how much you already know about this project, you might want to skip that and go straight to the \"Usage\" section. This is where most of the interactive code blocks exists. You will notice that all of the notes are present in this project as well. Each folder that has been recorded has its own `notes_explorer.ipynb` file that you can explore.\n",
    "\n",
    "For those of you who wish to first go through the introduction, read onwards!\n",
    "\n",
    "## Context, History, and Motivation\n",
    "\n",
    "The purpose of the notes explorer is to allow us to identify and explore relationships between different topics that come up during the TC39 Plenary. I wrote this project to help me understand the rationale of the TC39 when designing language features. This itself was in response to a task that had been on the committee's TODO list for over a year, the goal being to to better communicate with new members of the TC39 and to the public at large. The task is rather emense, and since I do not have the full history of the TC39, I turned to what I could learn from the notes. \n",
    "\n",
    "You might be familiar with the use of design rationale's in software. To quickly summarize -- rationales, and tools around building rationales, were trying to address the problem of design decisions being lost to time. In long running projects, a new person might join and have an idea. Those project members who have been for a long time might say \"oh that came up before but we decided against it\". Or, even more vaguely, \"something similar came up but I do not remember the details\". The project is attempted, and in some cases succeeds due to changing circumstances in the project, or it fails and reveals the flaw that had been discussed before.  The first case scenario is a positive scenario -- we should be open to trying things again. However the second scenario is quite costly, especially in a standards environment. If a proposal makes it through with flaws, it is something that is very difficult to role back. To tackle this problem, there have been several proposed solutions. One of those is writing a design rationale. There are several systems for doing this, which I have detailed over in the Rationale Systems document. \n",
    "\n",
    "Without going into further detail, I found the idea of an \"apprentice\" rationale very interesting. However, all rationale systems had a very granular approach to collecting information. Namely, they would extract argument by argument, a list of decisions. Usually this is in relation to a goal that is being achieved by the project.\n",
    "\n",
    "This didn't reflect what I had been observing in the meetings. Very frequently, our biggest discussions revolve around the values that we as a committee hold, rather than orienting towards a goal. In fact I would say that the committee does not have a goal, but instead it holds to a set of values as the context of programming on the web changes. Those values are frequently in tension with one another, and our decision making process is effectively weighing those values to determine whether or not it is acceptable to choose one over the other, if there is a a way to mediate the tension, and other questions.\n",
    "\n",
    "## Annotation\n",
    "\n",
    "If you read the notes in this version of tc39-notes, you will notice that many of the files have been modified with tags that look like this\n",
    "\n",
    "`[Value:BackwardsCompat Tension:Interop]`\n",
    "\n",
    "They are always followed by a block of text. This is an example of an annotation that the parser uses to identify parts of the conversation as expressing a pivot point. These might be counter arguments, or people speaking in support of something. We collect the following data from the notes. \n",
    "\n",
    "The parser relies on a tag being identified as either a `Value` or a `Discussion`, enclosed between two square brackets, and separated from surrounding text by `\\n` characters. The line that immediately follows any tag must be a line containing text, or the text will not be included as part of the Value definition. \n",
    "\n",
    "\n",
    "### Values\n",
    "Identified values must be tagged with the following:\n",
    "* the name of the value that is being reacted to, tagged with `Value:<ValueName>`\n",
    "\n",
    "Identified values must be tagged with one of the following interactions:\n",
    "* `Tension:<ValueName>`: any potential tension with another value that is being surfaced in the discussion\n",
    "* `Support:<ValueName>`: any value that supports the value that is being discussed\n",
    "\n",
    "A value is recorded as having a list of tensions, a list of supports, and a list of examples.\n",
    "\n",
    "Examples of a value interaction (for example, a value being supported by another value, or a value in tension with another value) are related to the discussions in which they are found. Example paragraphs, as you will see later, can be used to query the \"world\" of values.  \n",
    "\n",
    "### Discussions\n",
    "\n",
    "A discussion, which contains several statements around values is tagged as follows:\n",
    "\n",
    "`[Discussion]`\n",
    "\n",
    "The next line in the discussion is used as the discussion name, and can be queried. \n",
    "\n",
    "### Notes, years, and other identifiers\n",
    "\n",
    "The file name is used as meta data to set the year and date. Values can also be queried by these values as you will see later.\n"
   ]
  },
  {
   "cell_type": "markdown",
   "metadata": {},
   "source": [
    "## How to use this notebook\n",
    "\n",
    "You can directly interact with this notebook. You will find a run button next to each block of code, modifying the code block will output the result of your query. Make sure that all of your queries are prefaced with a `?-`. Eventually a front end interface for a prolog server will be made, to make this a little easier. If you wish, you can also run this project locally. This is detailed in the local installation documentation.\n",
    "\n",
    "## Getting started\n",
    "\n",
    "The first thing to do is run the notebook. Go to Kernel -> Restart and Run All. See this image:\n",
    "\n",
    "![run-all](run-all.png)\n",
    "\n",
    "This should always happen in a notebook, so make sure it is always present. \n",
    "\n",
    "*NOTE*: if you are new to jupyter notebooks: You can also press the \"run\" button (in the top menu bar) whenever you are focused on a cell to run its contents independent of other cells. This way you can evaluate the contents of a cell without rerunning the entire notebook. \n",
    "\n",
    "Next, make sure a notebook is initialized with the following line. This loads the file that takes care of parsing and building our \"world\" around a given note:"
   ]
  },
  {
   "cell_type": "code",
   "execution_count": 1,
   "metadata": {},
   "outputs": [
    {
     "name": "stdout",
     "output_type": "stream",
     "text": [
      "true."
     ]
    }
   ],
   "source": [
    "?- consult('./notes_explorer/notes_explorer.pl')."
   ]
  },
  {
   "cell_type": "markdown",
   "metadata": {},
   "source": [
    "Next, we can load an md file from the notes. This can be any one of the files that you find in an es directory. For example:"
   ]
  },
  {
   "cell_type": "code",
   "execution_count": 2,
   "metadata": {},
   "outputs": [
    {
     "name": "stdout",
     "output_type": "stream",
     "text": [
      "false."
     ]
    }
   ],
   "source": [
    "?- load_note('./es9/2018-11/nov-28')."
   ]
  },
  {
   "cell_type": "markdown",
   "metadata": {},
   "source": [
    "You might notice some errors when you run that block. Don't worry about them, the stream doesn't handle being closed correctly for some reason. It seems to be an issue in swipl (or at the very least in their documentation).\n",
    "\n",
    "So, now we have a note loaded, and our world is \"set\". \n",
    "\n",
    "## Inspecting the world\n",
    "\n",
    "What is a world? In our case, it is the environment in which our prolog queries operate. These have been expressed as \"facts\" to prolog by the parser when it consumed one of the annotated files. \n",
    "\n",
    "Let's start with values, what values exist in this world that we have built, and how do we learn about them?\n",
    "\n",
    "To inspect which values were expressed in this discussion, you can request all existing values, like so (we are using X as a throw away variable to get all of the output):"
   ]
  },
  {
   "cell_type": "code",
   "execution_count": 3,
   "metadata": {
    "scrolled": true
   },
   "outputs": [
    {
     "name": "stdout",
     "output_type": "stream",
     "text": [
      "ValueName = ? ;\n",
      "ValueName = new_capability ;\n",
      "ValueName = integrity ;\n",
      "ValueName = expressiveness ;\n",
      "ValueName = ecosystem_implementation ;\n",
      "ValueName = standardization ;\n",
      "ValueName = interop ;\n",
      "ValueName = consistency ;\n",
      "ValueName = cowpath ;\n",
      "ValueName = backwardscompat ."
     ]
    }
   ],
   "source": [
    "?- value(ValueName)."
   ]
  },
  {
   "cell_type": "markdown",
   "metadata": {},
   "source": [
    "Great, this is an interesting list of values that were expressed. These values all have relationships with one another. They are identified as \"supports\" and \"tensions\". For the most part we are interested in tensions. Places where two values come into conflict with one another. Here is an example:"
   ]
  },
  {
   "cell_type": "code",
   "execution_count": 4,
   "metadata": {
    "scrolled": true
   },
   "outputs": [
    {
     "name": "stdout",
     "output_type": "stream",
     "text": [
      "Y = ?, X = ? ;\n",
      "Y = new_capability, X = ? ;\n",
      "Y = new_capability, X = integrity ;\n",
      "Y = integrity, X = ? ;\n",
      "Y = integrity, X = maxmin ;\n",
      "Y = expressiveness, X = ? ;\n",
      "Y = new_capability, X = jit_compilation ;\n",
      "Y = expressiveness, X = coherence ;\n",
      "Y = expressiveness, X = future_compat ;\n",
      "Y = expressiveness, X = least_surprise ."
     ]
    }
   ],
   "source": [
    "?- lookup(Y, X, tension(Y, X))."
   ]
  },
  {
   "cell_type": "code",
   "execution_count": 5,
   "metadata": {},
   "outputs": [
    {
     "name": "stdout",
     "output_type": "stream",
     "text": [
      "X = ? ;\n",
      "X = new_capability ."
     ]
    }
   ],
   "source": [
    "?- lookup(cowpath, X, support(cowpath, X))."
   ]
  },
  {
   "cell_type": "markdown",
   "metadata": {},
   "source": [
    "Feel free to play around with these. You can change the value that is being tested in each of these, and run the code!\n",
    "\n",
    "While analysing a set of decisions, it might be useful to understand all of the values and relationships that came up in the context of a single discussion. We can do this through the following way (I am using an `_` to ignore the example text, but normally the example text would also be part of the output here)."
   ]
  },
  {
   "cell_type": "code",
   "execution_count": 6,
   "metadata": {},
   "outputs": [
    {
     "name": "stdout",
     "output_type": "stream",
     "text": [
      "EdgeTypes = [ [ [ tension, consistency, ? ] ], [ [ tension, consistency, backwardscompat ] ], [ [ tension, consistency, backwardscompat ] ], [ [ tension, backwardscompat, performance ] ] ] ."
     ]
    }
   ],
   "source": [
    "print_discussion_1([], _).\n",
    "print_discussion_1([In|Ins], [Out|Outs]) :-\n",
    "  findall([B, A, L], get_example(B, A, L, In), Out),\n",
    "  print_discussion_1(Ins, Outs).\n",
    "\n",
    "inspect_discussion_1(DiscussionName, Examples, Information) :-\n",
    "  findall(X, lookup(DiscussionName, X, discussion(DiscussionName, X)), Examples),\n",
    "  print_discussion_1(Examples, Information).\n",
    "\n",
    "?- inspect_discussion_1(\"## isRegExp change\", _, EdgeTypes)."
   ]
  },
  {
   "cell_type": "markdown",
   "metadata": {},
   "source": [
    "## Getting Qualitative information\n",
    "\n",
    "Now we have a list of all edge types that came from this discussion. However, these are not necessarily useful on their own, instead they can be used as an index to dig deeper into related discussions. If we want to see other cases where, for example, language consistency came into conflict with web backwards compatiblity, we can do that like so:"
   ]
  },
  {
   "cell_type": "code",
   "execution_count": 7,
   "metadata": {},
   "outputs": [
    {
     "name": "stdout",
     "output_type": "stream",
     "text": [
      "Example = JHD: It will be better to have a clear precedent and clear mental model of how regex symbols work. I wanted to get consensus between one of the 2 approaches -- one in the PR which is removing the symbol.match check, and an alternative to checking for any of the regex symbols (which would likely have a performance impact). I think we can easily add a use counter in Chrome to detect how often this happens. If we can't make a consensus because it isn't web compatible or pushback on implementation, that's fine, but it would help future designs and matchAll if we can decide what makes the most sense - what we would want conceptually. Symbol.match being special allows for ambiguous interpretations of its behavior. ;\n",
      "Example = DE: So we are saying due to web reality this may be an issue but if it isn't we can proceed with match all. ."
     ]
    }
   ],
   "source": [
    "?- get_example(tension, consistency, backwardscompat, Example)."
   ]
  },
  {
   "cell_type": "markdown",
   "metadata": {},
   "source": [
    "This is really useful for getting information about something which might span multiple conversations, days, years, etc. \n",
    "\n",
    "It is also possible to do a reverse lookup. Some text snippits have multiple values associated to them. All this requires is replacing the values in get_example with assignable variables. This has more to do with how prolog works than anything else.\n",
    "\n",
    "## Navigating the notes\n",
    "\n",
    "Sometimes, you want to get a picture of what the world looks like. This works much like inspecting specific values and relationships. For example, you can pull out all support relationships and all tension relationships, and then interact with them as you like."
   ]
  },
  {
   "cell_type": "code",
   "execution_count": 8,
   "metadata": {},
   "outputs": [
    {
     "name": "stdout",
     "output_type": "stream",
     "text": [
      "Y = new_capability, X = ? ;\n",
      "Y = integrity, X = ? ;\n",
      "Y = expressiveness, X = ? ;\n",
      "Y = expressiveness, X = interop ;\n",
      "Y = expressiveness, X = new_capability ;\n",
      "Y = expressiveness, X = idiomatic_patterns ;\n",
      "Y = expressiveness, X = scalability ;\n",
      "Y = ecosystem_implementation, X = ? ;\n",
      "Y = ecosystem_implementation, X = expressiveness ;\n",
      "Y = standardization, X = ? ."
     ]
    }
   ],
   "source": [
    "?- lookup(Y, X, support(Y, X))."
   ]
  },
  {
   "cell_type": "code",
   "execution_count": 9,
   "metadata": {},
   "outputs": [
    {
     "name": "stdout",
     "output_type": "stream",
     "text": [
      "Y = ?, X = ? ;\n",
      "Y = new_capability, X = ? ;\n",
      "Y = new_capability, X = integrity ;\n",
      "Y = integrity, X = ? ;\n",
      "Y = integrity, X = maxmin ;\n",
      "Y = expressiveness, X = ? ;\n",
      "Y = new_capability, X = jit_compilation ;\n",
      "Y = expressiveness, X = coherence ;\n",
      "Y = expressiveness, X = future_compat ;\n",
      "Y = expressiveness, X = least_surprise ."
     ]
    }
   ],
   "source": [
    "?- lookup(Y, X, tension(Y, X))."
   ]
  },
  {
   "cell_type": "markdown",
   "metadata": {},
   "source": [
    "### CAUTION, THIS SECTION DOESN'T WORK YET\n",
    "\n",
    "However, when the system gets really large, it can be hard to comprehend what is happening. Sometimes it is easier to see these relationships as a graph, and compare graphs of discussion. This is a view on the data, and can help with navigating larger discussion pieces. \n",
    "\n",
    "Here we will leave the world of prolog, and start using graphviz. This only works in this notebook, but here is the basic idea: prefix the data that you want to graph with `%graphviz` and follow it with a viewer function, such as `view(<discussion_name>)`.\n",
    "\n",
    "There are other views that can be applied, listed here. Feel free to play with those and discover parts of the world.\n",
    "\n",
    "- `%graphviz view_note(<NoteName>).` graph all nodes in a given loaded note\n",
    "- `%graphviz view_all.` graphs all nodes in the system\n",
    "- `%graphviz view_contradictions.` graphs all two-directional relationships\n",
    "- `%graphviz view_relationships(<ValueName>).` graphs all relationships to this node\n",
    "### CAUTION, No graphviz output is ready yet\n"
   ]
  },
  {
   "cell_type": "code",
   "execution_count": 12,
   "metadata": {},
   "outputs": [
    {
     "name": "stdout",
     "output_type": "stream",
     "text": []
    }
   ],
   "source": [
    "%graphvis view(\"## Temporal for stage 2\")."
   ]
  },
  {
   "cell_type": "markdown",
   "metadata": {},
   "source": [
    "If this code worked, it would export an image that looks like this, and give us a graph for the discussion on Temporal for stage 2:\n",
    "\n",
    "![i-wish-this-worked-but-i-ran-out-of-time](hopes-and-dreams.png)\n",
    "\n",
    "(this is very close but I did run out of time to get this fully working)"
   ]
  },
  {
   "cell_type": "markdown",
   "metadata": {},
   "source": [
    "## Helping with this project\n",
    "\n",
    "..."
   ]
  }
 ],
 "metadata": {
  "kernelspec": {
   "display_name": "SWI-Prolog",
   "language": "",
   "name": "jswipl"
  },
  "language_info": {
   "mimetype": "text/plain",
   "name": "swipl"
  }
 },
 "nbformat": 4,
 "nbformat_minor": 2
}
