{
 "cells": [
  {
   "cell_type": "markdown",
   "metadata": {},
   "source": [
    "# Playground\n",
    "\n",
    "Try out different things here.\n",
    "\n",
    "Available notes (so far):\n",
    "* ./es9/2018-09/sept-25\n",
    "* ./es9/2018-11/nov-27\n",
    "* ./es9/2018-11/nov-28"
   ]
  },
  {
   "cell_type": "code",
   "execution_count": 1,
   "metadata": {},
   "outputs": [
    {
     "name": "stdout",
     "output_type": "stream",
     "text": [
      "true.\n",
      "false."
     ]
    }
   ],
   "source": [
    "?- consult('./notes_explorer/notes_explorer.pl').\n",
    "?- load_note('./es9/2018-11/nov-28')."
   ]
  },
  {
   "cell_type": "code",
   "execution_count": 2,
   "metadata": {},
   "outputs": [
    {
     "name": "stdout",
     "output_type": "stream",
     "text": []
    }
   ],
   "source": [
    "% add your code in this block, and add as many blocks as you like. See notes_explorer_explorer.ipynb for documentation"
   ]
  },
  {
   "cell_type": "code",
   "execution_count": null,
   "metadata": {},
   "outputs": [],
   "source": []
  }
 ],
 "metadata": {
  "kernelspec": {
   "display_name": "SWI-Prolog",
   "language": "",
   "name": "jswipl"
  },
  "language_info": {
   "mimetype": "text/plain",
   "name": "swipl"
  }
 },
 "nbformat": 4,
 "nbformat_minor": 2
}
